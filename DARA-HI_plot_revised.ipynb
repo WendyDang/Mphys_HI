{
 "cells": [
  {
   "cell_type": "code",
   "execution_count": 1,
   "id": "efe6de10",
   "metadata": {},
   "outputs": [],
   "source": [
    "import numpy as np\n",
    "import matplotlib.pyplot as plt\n",
    "import radio_beam\n",
    "from radio_beam import Beam\n",
    "from spectral_cube import SpectralCube\n",
    "from matplotlib import cm\n",
    "from astropy.io import fits\n",
    "from astropy.wcs import WCS\n",
    "from astropy.nddata import Cutout2D\n",
    "from matplotlib.patches import Ellipse\n",
    "from astropy import units as u \n",
    "from astropy import coordinates\n",
    "from astropy.utils import data\n",
    "#import pylab as pl\n",
    "from astropy.io import ascii\n",
    "from matplotlib import rcParams\n",
    "#import aplpy\n",
    "from matplotlib.ticker import AutoMinorLocator\n",
    "import matplotlib.ticker as mtick"
   ]
  },
  {
   "cell_type": "markdown",
   "id": "cdb33cc1",
   "metadata": {},
   "source": [
    "Useful constants for HI\n"
   ]
  },
  {
   "cell_type": "code",
   "execution_count": 2,
   "id": "2ae89f6c",
   "metadata": {},
   "outputs": [],
   "source": [
    "restfr=1420.405*10**6 #HI rest frequency in HZ \n",
    "H0=67.5 #Hubble constant\n",
    "c=299792 #speed of light"
   ]
  },
  {
   "cell_type": "markdown",
   "id": "c989863a",
   "metadata": {},
   "source": [
    "Open your data cube in ds9. Scroll through it, do you see the butterfly diagram and channel maps? What do you think is the central frequency of the source? "
   ]
  },
  {
   "cell_type": "markdown",
   "id": "e8ebd60f",
   "metadata": {},
   "source": [
    "Now read the data here using the Spectral cube package"
   ]
  },
  {
   "cell_type": "code",
   "execution_count": 3,
   "id": "c1f5191f",
   "metadata": {},
   "outputs": [],
   "source": [
    "cube_name='J100236.5+014618'\n",
    "freq=1.376381*10**9 # central frequency of the source in the cubelet\n",
    "cubelet=SpectralCube.read('/Users/apple/Documents/GitHub/Mphys_HI/COSMOS_r0p5/'+str(cube_name)+'.r0p5.fits')\n"
   ]
  },
  {
   "cell_type": "markdown",
   "id": "0e0c78e3",
   "metadata": {},
   "source": [
    "Explore dimensions of the cubelet: Third axis is Frequency in Hz and has 12 channels. What is the spectral resolution of the cubelet in Hz? "
   ]
  },
  {
   "cell_type": "code",
   "execution_count": 4,
   "id": "0bdec759",
   "metadata": {},
   "outputs": [
    {
     "data": {
      "text/plain": [
       "SpectralCube with shape=(15, 100, 100) and unit=Jy / beam:\n",
       " n_x:    100  type_x: RA---SIN  unit_x: deg    range:    34.405030 deg:   34.460268 deg\n",
       " n_y:    100  type_y: DEC--SIN  unit_y: deg    range:    -5.325284 deg:   -5.270279 deg\n",
       " n_s:     15  type_s: FREQ      unit_s: Hz     range: 1374917740.274 Hz:1377843541.819 Hz"
      ]
     },
     "execution_count": 4,
     "metadata": {},
     "output_type": "execute_result"
    }
   ],
   "source": [
    "cubelet"
   ]
  },
  {
   "cell_type": "markdown",
   "id": "db5918b3",
   "metadata": {},
   "source": [
    "by knowing the spectral resolution can you verify the central frequency of your source? (channel 7)"
   ]
  },
  {
   "cell_type": "markdown",
   "id": "e9c472d2",
   "metadata": {},
   "source": [
    "You can explore the header of the cubelet. The intensity unit is in Jy/beam. BMAJ and BMIN are the major and mnior axis of the PSF/beam"
   ]
  },
  {
   "cell_type": "code",
   "execution_count": 5,
   "id": "bdd25197",
   "metadata": {},
   "outputs": [
    {
     "data": {
      "text/plain": [
       "SIMPLE  =                    T / conforms to FITS standard                      \n",
       "BITPIX  =                  -64 / array data type                                \n",
       "NAXIS   =                    3                                                  \n",
       "NAXIS1  =                  100                                                  \n",
       "NAXIS2  =                  100                                                  \n",
       "NAXIS3  =                   15                                                  \n",
       "BTYPE   = 'Intensity'                                                           \n",
       "OBJECT  = 'J0217-0449'                                                          \n",
       "BUNIT   = 'beam-1 Jy'          / Brightness (pixel) unit                        \n",
       "ALTRVAL =   1.904003154951E+07 /Alternate frequency reference value             \n",
       "ALTRPIX =   1.000000000000E+00 /Alternate frequency reference pixel             \n",
       "VELREF  =                  257 /1 LSR, 2 HEL, 3 OBS, +256 Radio                 \n",
       "COMMENT casacore non-standard usage: 4 LSD, 5 GEO, 6 SOU, 7 GAL                 \n",
       "TELESCOP= 'MeerKAT '                                                            \n",
       "OBSERVER= 'Sharmila'                                                            \n",
       "OBSRA   =   3.446249980127E+01                                                  \n",
       "OBSDEC  =  -4.833055419407E+00                                                  \n",
       "INSTRUME= 'MeerKAT '                                                            \n",
       "DISTANCE=   0.000000000000E+00                                                  \n",
       "DATE    = '2020-05-10T13:22:21.990000' /Date FITS file was written              \n",
       "ORIGIN  = 'CASA 5.4.1-31'                                                       \n",
       "CASAMBM =                    T /CASA multiple BEAMS table present               \n",
       "SLICE   = '[[(0, 15, None), (1162, 1263, None), (2052, 2153, None)], [(None, &' \n",
       "CONTINUE  'None, None), (0, 100, None), (0, 100, None)], [0, (None, None, &'    \n",
       "CONTINUE  'None), (None, None, None)], [1, (None, None, None), (None, None, &'  \n",
       "CONTINUE  'None)], [2, (None, None, None), (None, None, None)], [3, (None, &'   \n",
       "CONTINUE  'None, None), (None, None, None)], [4, (None, None, None), (None, &'  \n",
       "CONTINUE  'None, None)], [5, (None, None, None), (None, None, None)], [6, &'    \n",
       "CONTINUE  '(None, None, None), (None, None, None)], [7, (None, None, None), &'  \n",
       "CONTINUE  '(None, None, None)], [8, (None, None, None), (None, None, None)], &' \n",
       "CONTINUE  '[9, (None, None, None), (None, None, None)], [10, (None, None, &'    \n",
       "CONTINUE  'None), (None, None, None)], [11, (None, None, None), (None, None, &' \n",
       "CONTINUE  'None)], [12, (None, None, None), (None, None, None)], [13, (None, &' \n",
       "CONTINUE  'None, None), (None, None, None)], [14, (None, None, None), (None, &' \n",
       "CONTINUE  'None, None)]]'                                                       \n",
       "BMAJ    = 0.003247289922502306                                                  \n",
       "BMIN    = 0.002644434769948324                                                  \n",
       "BPA     =   -24.72404098510742                                                  \n",
       "BEAM    = 'Beam: BMAJ=11.6902437210083 arcsec BMIN=9.519965171813967 arcsec &'  \n",
       "CONTINUE  'BPA=-24.72404098510742 deg'                                          \n",
       "WCSAXES =                    3 / Number of coordinate axes                      \n",
       "CRPIX1  =                 -3.0 / Pixel coordinate of reference point            \n",
       "CRPIX2  =                887.0 / Pixel coordinate of reference point            \n",
       "CRPIX3  =                  1.0 / Pixel coordinate of reference point            \n",
       "CDELT1  =    -0.00055555555543 / [deg] Coordinate increment at reference point  \n",
       "CDELT2  =     0.00055555555543 / [deg] Coordinate increment at reference point  \n",
       "CDELT3  =        208985.824635 / [Hz] Coordinate increment at reference point   \n",
       "CUNIT1  = 'deg'                / Units of coordinate increment and value        \n",
       "CUNIT2  = 'deg'                / Units of coordinate increment and value        \n",
       "CUNIT3  = 'Hz'                 / Units of coordinate increment and value        \n",
       "CTYPE1  = 'RA---SIN'           / Right ascension, orthographic/synthesis project\n",
       "CTYPE2  = 'DEC--SIN'           / Declination, orthographic/synthesis projection \n",
       "CTYPE3  = 'FREQ'               / Frequency (linear)                             \n",
       "CRVAL1  =       34.46249980127 / [deg] Coordinate value at reference point      \n",
       "CRVAL2  =      -4.833055419407 / [deg] Coordinate value at reference point      \n",
       "CRVAL3  =      1374917740.2739 / [Hz] Coordinate value at reference point       \n",
       "PV2_1   =                  0.0 / SIN projection parameter                       \n",
       "PV2_2   =                  0.0 / SIN projection parameter                       \n",
       "LONPOLE =                180.0 / [deg] Native longitude of celestial pole       \n",
       "LATPOLE =      -4.833055419407 / [deg] Native latitude of celestial pole        \n",
       "RESTFRQ =         1420405750.0 / [Hz] Line rest frequency                       \n",
       "MJDREF  =                  0.0 / [d] MJD of fiducial time                       \n",
       "DATE-OBS= '2018-10-06T20:09:35.118076' / ISO-8601 time of observation           \n",
       "MJD-OBS =      58397.839989793 / [d] MJD of observation                         \n",
       "OBSGEO-X=       5109217.420824 / [m] observatory X-coordinate                   \n",
       "OBSGEO-Y=       2006797.675146 / [m] observatory Y-coordinate                   \n",
       "OBSGEO-Z=      -3239133.867335 / [m] observatory Z-coordinate                   \n",
       "RADESYS = 'FK5'                / Equatorial coordinate system                   \n",
       "EQUINOX =               2000.0 / [yr] Equinox of equatorial coordinates         \n",
       "SPECSYS = 'LSRK'               / Reference frame of spectral coordinates        \n",
       "HISTORY CASA START LOGTABLE                                                     \n",
       "HISTORY 2020-05-10T13:16:15 INFO SRCCODE='::image::maskhandler'                 \n",
       "HISTORY Ran ia.maskhandler                                                      \n",
       "HISTORY 2020-05-10T13:16:15 INFO SRCCODE='::image::maskhandler'                 \n",
       "HISTORY ia.maskhandler(op=\"delete\", name=[\"mask0\"])                             \n",
       "HISTORY 2020-05-10T13:16:23 INFO SRCCODE='::image::maskhandler'                 \n",
       "HISTORY Ran ia.maskhandler                                                      \n",
       "HISTORY 2020-05-10T13:16:23 INFO SRCCODE='::image::maskhandler'                 \n",
       "HISTORY ia.maskhandler(op=\"delete\", name=[\"mask0\"])                             \n",
       "HISTORY 2020-05-10T13:16:24 INFO SRCCODE='::image::maskhandler'                 \n",
       "HISTORY Ran ia.maskhandler                                                      \n",
       "HISTORY 2020-05-10T13:16:24 INFO SRCCODE='::image::maskhandler'                 \n",
       "HISTORY ia.maskhandler(op=\"delete\", name=[\"mask0\"])                             \n",
       "HISTORY 2020-05-10T13:16:25 INFO SRCCODE='::image::maskhandler'                 \n",
       "HISTORY Ran ia.maskhandler                                                      \n",
       "HISTORY 2020-05-10T13:16:25 INFO SRCCODE='::image::maskhandler'                 \n",
       "HISTORY ia.maskhandler(op=\"delete\", name=[\"mask0\"])                             \n",
       "HISTORY 2020-05-10T13:16:26 INFO SRCCODE='::image::maskhandler'                 \n",
       "HISTORY Ran ia.maskhandler                                                      \n",
       "HISTORY 2020-05-10T13:16:26 INFO SRCCODE='::image::maskhandler'                 \n",
       "HISTORY ia.maskhandler(op=\"delete\", name=[\"mask0\"])                             \n",
       "HISTORY 2020-05-10T13:16:27 INFO SRCCODE='::image::maskhandler'                 \n",
       "HISTORY Ran ia.maskhandler                                                      \n",
       "HISTORY 2020-05-10T13:16:28 INFO SRCCODE='::image::maskhandler'                 \n",
       "HISTORY ia.maskhandler(op=\"delete\", name=[\"mask0\"])                             \n",
       "HISTORY 2020-05-10T13:16:29 INFO SRCCODE='::image::maskhandler'                 \n",
       "HISTORY Ran ia.maskhandler                                                      \n",
       "HISTORY 2020-05-10T13:16:29 INFO SRCCODE='::image::maskhandler'                 \n",
       "HISTORY ia.maskhandler(op=\"delete\", name=[\"mask0\"])                             \n",
       "HISTORY 2020-05-10T13:16:30 INFO SRCCODE='::image::maskhandler'                 \n",
       "HISTORY Ran ia.maskhandler                                                      \n",
       "HISTORY 2020-05-10T13:16:30 INFO SRCCODE='::image::maskhandler'                 \n",
       "HISTORY ia.maskhandler(op=\"delete\", name=[\"mask0\"])                             \n",
       "HISTORY 2020-05-10T13:16:31 INFO SRCCODE='::image::maskhandler'                 \n",
       "HISTORY Ran ia.maskhandler                                                      \n",
       "HISTORY 2020-05-10T13:16:31 INFO SRCCODE='::image::maskhandler'                 \n",
       "HISTORY ia.maskhandler(op=\"delete\", name=[\"mask0\"])                             \n",
       "HISTORY 2020-05-10T13:16:16 INFO SRCCODE='::image::maskhandler'                 \n",
       "HISTORY Ran ia.maskhandler                                                      \n",
       "HISTORY 2020-05-10T13:16:16 INFO SRCCODE='::image::maskhandler'                 \n",
       "HISTORY ia.maskhandler(op=\"delete\", name=[\"mask0\"])                             \n",
       "HISTORY 2020-05-10T13:16:17 INFO SRCCODE='::image::maskhandler'                 \n",
       "HISTORY Ran ia.maskhandler                                                      \n",
       "HISTORY 2020-05-10T13:16:17 INFO SRCCODE='::image::maskhandler'                 \n",
       "HISTORY ia.maskhandler(op=\"delete\", name=[\"mask0\"])                             \n",
       "HISTORY 2020-05-10T13:16:18 INFO SRCCODE='::image::maskhandler'                 \n",
       "HISTORY Ran ia.maskhandler                                                      \n",
       "HISTORY 2020-05-10T13:16:18 INFO SRCCODE='::image::maskhandler'                 \n",
       "HISTORY ia.maskhandler(op=\"delete\", name=[\"mask0\"])                             \n",
       "HISTORY 2020-05-10T13:16:19 INFO SRCCODE='::image::maskhandler'                 \n",
       "HISTORY Ran ia.maskhandler                                                      \n",
       "HISTORY 2020-05-10T13:16:19 INFO SRCCODE='::image::maskhandler'                 \n",
       "HISTORY ia.maskhandler(op=\"delete\", name=[\"mask0\"])                             \n",
       "HISTORY 2020-05-10T13:16:20 INFO SRCCODE='::image::maskhandler'                 \n",
       "HISTORY Ran ia.maskhandler                                                      \n",
       "HISTORY 2020-05-10T13:16:20 INFO SRCCODE='::image::maskhandler'                 \n",
       "HISTORY ia.maskhandler(op=\"delete\", name=[\"mask0\"])                             \n",
       "HISTORY 2020-05-10T13:16:22 INFO SRCCODE='::image::maskhandler'                 \n",
       "HISTORY Ran ia.maskhandler                                                      \n",
       "HISTORY 2020-05-10T13:16:22 INFO SRCCODE='::image::maskhandler'                 \n",
       "HISTORY ia.maskhandler(op=\"delete\", name=[\"mask0\"])                             \n",
       "HISTORY CASA END LOGTABLE                                                       \n",
       "HISTORY Written by spectral_cube v0.4.5.dev2267 on 2020/11/11-15:00:23          "
      ]
     },
     "execution_count": 5,
     "metadata": {},
     "output_type": "execute_result"
    }
   ],
   "source": [
    "cubelet.header"
   ]
  },
  {
   "cell_type": "markdown",
   "id": "22d4e8ca",
   "metadata": {},
   "source": [
    "Then you can read the parameters which you will need from the HEADER"
   ]
  },
  {
   "cell_type": "code",
   "execution_count": 5,
   "id": "bb8e6776",
   "metadata": {},
   "outputs": [
    {
     "name": "stdout",
     "output_type": "stream",
     "text": [
      "16.002957041729758 16.002957041729758 26125.31243753\n"
     ]
    }
   ],
   "source": [
    "bmaj=cubelet.header['BMAJ']*3600 # values in the header are in degrees, so we need to convert them to arcsec\n",
    "bmin=cubelet.header['BMIN']*3600\n",
    "bpa=cubelet.header['BPA']\n",
    "dpix=cubelet.header['CDELT2']*3600 #amount of arcsec per pixel\n",
    "df=cubelet.header['CDELT3'] #hz\n",
    "print(bmaj,bmin,df)"
   ]
  },
  {
   "cell_type": "markdown",
   "id": "fcb5bf0d",
   "metadata": {},
   "source": [
    "CDELT3 is the spectral resoltuion. Did you get it right? bpa is the orientation of the BEAM/PSF;\n",
    "dpix is the size of the pixel in arcsec\n"
   ]
  },
  {
   "cell_type": "markdown",
   "id": "0d6b3c3e",
   "metadata": {},
   "source": [
    "Now we need to calcualte a couple of parameters which you saw in the lecture, which are useful for HI mass calculation"
   ]
  },
  {
   "cell_type": "code",
   "execution_count": 6,
   "id": "c926ca40",
   "metadata": {},
   "outputs": [
    {
     "name": "stdout",
     "output_type": "stream",
     "text": [
      "0.013799328050989369\n",
      "5.684814442656716\n"
     ]
    }
   ],
   "source": [
    "#Parameters to convert your flux from Jy/beam to Jy\n",
    "omega = (np.pi*(bmaj/206265)*(bmin/206265))/(4*np.log(2))*4.25*10**10 # beam area in arcsec\n",
    "bmpix=dpix**2/omega # amount of pixels per beam area- convertion factor, we will see it used later\n",
    "print(bmpix)\n",
    "#Formulas from the lecture\n",
    "V=(restfr**2-freq**2)/(restfr**2+freq**2)*c # systemic velocity\n",
    "dist=V/H0           #distance Mpc\n",
    "z=(restfr-freq)/freq # redshift\n",
    "\n",
    "#Convert cahnnel width from HZ to km/s\n",
    "dv=(((restfr**2-(freq-df)**2)/(restfr**2+(freq-df)**2)*c))-V #channel width in km/s\n",
    "\n",
    "print(dv) # check that all values make sence"
   ]
  },
  {
   "cell_type": "markdown",
   "id": "b3bfd436",
   "metadata": {},
   "source": [
    "Now we can convert the entire Frequency axis to velocity"
   ]
  },
  {
   "cell_type": "code",
   "execution_count": 7,
   "id": "2c7082fe",
   "metadata": {},
   "outputs": [],
   "source": [
    "cubelet = cubelet.with_spectral_unit(u.km/u.s,\n",
    "                                       velocity_convention='radio',\n",
    "                                       rest_value=1.420405*u.GHz)"
   ]
  },
  {
   "cell_type": "markdown",
   "id": "5ef4534a",
   "metadata": {},
   "source": [
    "Next we can calculate the spectrum of the whole cubelet. Spectrum is the sum of all intensitties in the channel "
   ]
  },
  {
   "cell_type": "code",
   "execution_count": 9,
   "id": "4d745041",
   "metadata": {},
   "outputs": [
    {
     "name": "stderr",
     "output_type": "stream",
     "text": [
      "WARNING: PossiblySlowWarning: This function (<function BaseSpectralCube.sum at 0x7f89a8d46790>) requires loading the entire cube into memory and may therefore be slow. [spectral_cube.utils]\n"
     ]
    }
   ],
   "source": [
    "# First we calculate spectrum in original units Jy/beam\n",
    "spectrum = cubelet.sum(axis=(1,2)) #sum of all pixel values in one channel\n",
    "# Then we use parameter \"bmpix\" to convert from Jy/beam to Jy \n",
    "spectrum_jy= spectrum*bmpix"
   ]
  },
  {
   "cell_type": "code",
   "execution_count": 10,
   "id": "890c99ea",
   "metadata": {},
   "outputs": [
    {
     "name": "stdout",
     "output_type": "stream",
     "text": [
      "[-7.57347828e-04  2.96761230e-05 -2.79728495e-03 -7.38828899e-04\n",
      "  1.01654908e-03  1.32793665e-03  4.03364576e-03  2.42123428e-03\n",
      "  4.11329121e-03 -7.85974311e-04 -3.21041250e-03 -3.66915198e-03\n",
      " -3.47672621e-03 -2.70731637e-03 -1.72097687e-04] Jy / beam\n"
     ]
    }
   ],
   "source": [
    "#lets look at the values\n",
    "print(spectrum_jy)"
   ]
  },
  {
   "cell_type": "markdown",
   "id": "43220c16",
   "metadata": {},
   "source": [
    "In order to plot our global HI profile we need to look at spectrum a a function of velocity. We can derive velocity array from the cubelet"
   ]
  },
  {
   "cell_type": "code",
   "execution_count": 18,
   "id": "1c97bd9c",
   "metadata": {},
   "outputs": [
    {
     "name": "stdout",
     "output_type": "stream",
     "text": [
      "[13310.44961213 13304.93557097 13299.42152981 13293.90748865\n",
      " 13288.39344749 13282.87940633 13277.36536518 13271.85132402\n",
      " 13266.33728286 13260.8232417  13255.30920054 13249.79515938\n",
      " 13244.28111822 13238.76707707 13233.25303591 13227.73899475\n",
      " 13222.22495359 13216.71091243 13211.19687127 13205.68283012\n",
      " 13200.16878896 13194.6547478  13189.14070664 13183.62666548\n",
      " 13178.11262432 13172.59858317 13167.08454201 13161.57050085\n",
      " 13156.05645969 13150.54241853 13145.02837737 13139.51433621\n",
      " 13134.00029506 13128.4862539  13122.97221274 13117.45817158\n",
      " 13111.94413042 13106.43008926 13100.91604811 13095.40200695\n",
      " 13089.88796579 13084.37392463 13078.85988347 13073.34584231\n",
      " 13067.83180115 13062.31776    13056.80371884 13051.28967768\n",
      " 13045.77563652 13040.26159536 13034.7475542  13029.23351305\n",
      " 13023.71947189 13018.20543073 13012.69138957 13007.17734841\n",
      " 13001.66330725 12996.14926609 12990.63522494 12985.12118378\n",
      " 12979.60714262 12974.09310146 12968.5790603  12963.06501914\n",
      " 12957.55097799 12952.03693683 12946.52289567 12941.00885451\n",
      " 12935.49481335 12929.98077219 12924.46673103 12918.95268988\n",
      " 12913.43864872 12907.92460756 12902.4105664  12896.89652524\n",
      " 12891.38248408 12885.86844293 12880.35440177 12874.84036061\n",
      " 12869.32631945 12863.81227829 12858.29823713 12852.78419598\n",
      " 12847.27015482 12841.75611366 12836.2420725  12830.72803134\n",
      " 12825.21399018 12819.69994902 12814.18590787 12808.67186671\n",
      " 12803.15782555 12797.64378439 12792.12974323 12786.61570207\n",
      " 12781.10166092 12775.58761976 12770.0735786  12764.55953744\n",
      " 12759.04549628 12753.53145512 12748.01741396 12742.50337281\n",
      " 12736.98933165 12731.47529049 12725.96124933 12720.44720817\n",
      " 12714.93316701 12709.41912586 12703.9050847  12698.39104354\n",
      " 12692.87700238 12687.36296122 12681.84892006 12676.3348789\n",
      " 12670.82083775 12665.30679659 12659.79275543 12654.27871427\n",
      " 12648.76467311]\n"
     ]
    }
   ],
   "source": [
    "v_arr1 = cubelet.spectral_axis.value\n",
    "print(v_arr1)"
   ]
  },
  {
   "cell_type": "markdown",
   "id": "1623f71a",
   "metadata": {},
   "source": [
    "Now examine the spectrum by plotting it. You can also save the plot. "
   ]
  },
  {
   "cell_type": "code",
   "execution_count": 15,
   "id": "f9211468",
   "metadata": {},
   "outputs": [
    {
     "name": "stderr",
     "output_type": "stream",
     "text": [
      "WARNING: SliceWarning: Slice (slice(None, None, None), None) cannot be used on this 1-dimensional array's WCS.  If this is intentional, you  should use this <class 'spectral_cube.lower_dimensional_structures.OneDSpectrum'>'s ``array``  or ``quantity`` attribute. [spectral_cube.lower_dimensional_structures]\n"
     ]
    },
    {
     "data": {
      "image/png": "[encoded data removed]",
      "text/plain": [
       "<Figure size 648x432 with 1 Axes>"
      ]
     },
     "metadata": {
      "needs_background": "light"
     },
     "output_type": "display_data"
    }
   ],
   "source": [
    "plt.figure(figsize=(9,6))\n",
    "plt.plot(v_arr1, spectrum_jy, 'b-', label='Spectrum')\n",
    "plt.plot([800, 20700], [0, 0],'k--')\n",
    "plt.xlim(v_arr1[10],v_arr1[0])\n",
    "plt.xlabel('Vel (km/s)', fontsize = 12)\n",
    "plt.ylabel('Jy', fontsize = 12)\n",
    "\n",
    "\n",
    "plt.gca().xaxis.set_minor_locator(AutoMinorLocator())\n",
    "plt.gca().yaxis.set_minor_locator(AutoMinorLocator())\n",
    "plt.gca().tick_params(axis='both', which='major', direction='in', length=10, top=True, right=True)\n",
    "plt.gca().tick_params(axis='both', which='minor', direction='in', length=5, top=True, right=True)\n",
    "\n",
    "plt.legend(loc=2, numpoints=1, prop={'size':9})\n",
    "\n",
    "#plt.savefig('/Users/ponomareva/Desktop/MGHT_AA.pdf',format = 'pdf', bbox_inches = 'tight', transparent=True)\n",
    "plt.show()"
   ]
  },
  {
   "cell_type": "markdown",
   "id": "93123035",
   "metadata": {},
   "source": [
    "What can you say about the source? What is it systemic velocity?"
   ]
  },
  {
   "cell_type": "markdown",
   "id": "d0fff89f",
   "metadata": {},
   "source": [
    "This Spectrum includes a lot of noise around the source, which affects the values and the shape of global HI profile. In order to get rid of the noise and obtain the true spectrum of the source only we need to do couple of more procedures"
   ]
  },
  {
   "cell_type": "markdown",
   "id": "ce1472a3",
   "metadata": {},
   "source": [
    "However, our resolution is high, it means that some emission of the source can be burried below the noise. In order to bring the noise down and emission up we need to smooth our cubelet to lower special resolution and to create a mask"
   ]
  },
  {
   "cell_type": "code",
   "execution_count": 9,
   "id": "fda23240",
   "metadata": {},
   "outputs": [
    {
     "name": "stderr",
     "output_type": "stream",
     "text": [
      "WARNING: PossiblySlowWarning: This function (<function BaseSpectralCube.convolve_to at 0x7f98a115e3a0>) requires loading the entire cube into memory and may therefore be slow. [spectral_cube.utils]\n"
     ]
    }
   ],
   "source": [
    "# we define the new beam, which is 20 x 20 arcsec\n",
    "beam = radio_beam.Beam(major=20*u.arcsec, minor=20*u.arcsec, pa=0*u.deg)\n",
    "#then we convolve our original cubelet with the new beam\n",
    "cube_20 = cubelet.convolve_to(beam)"
   ]
  },
  {
   "cell_type": "markdown",
   "id": "a79c86fe",
   "metadata": {},
   "source": [
    "Next, we need to calculate the rms and 1 sigma of the new smoothed cube, in order to clip it and keep only the emission above 3 sigma, which is the true signal. That way we get rid of the noise."
   ]
  },
  {
   "cell_type": "code",
   "execution_count": 231,
   "id": "36211028",
   "metadata": {},
   "outputs": [
    {
     "name": "stderr",
     "output_type": "stream",
     "text": [
      "WARNING: PossiblySlowWarning: This function (<function BaseSpectralCube.std at 0x7fd384df8160>) requires loading the entire cube into memory and may therefore be slow. [spectral_cube.utils]\n"
     ]
    },
    {
     "name": "stdout",
     "output_type": "stream",
     "text": [
      "5.2191390107527006e-05\n"
     ]
    }
   ],
   "source": [
    "#first we define the region of the new cube which is emission free, and has only noise\n",
    "# the order here is [z,y,x]= [freq, dec,ra] I checked in advance that this region is signal free\n",
    "subcube_20=cube_20[:,85:120,75:100]\n",
    "\n",
    "rms = subcube_20.std(axis=(1,2))\n",
    "sigma=np.mean(rms.value)\n",
    "print(sigma)"
   ]
  },
  {
   "cell_type": "code",
   "execution_count": 48,
   "id": "09a9ec5c",
   "metadata": {},
   "outputs": [],
   "source": []
  },
  {
   "cell_type": "code",
   "execution_count": 233,
   "id": "b5933528",
   "metadata": {},
   "outputs": [
    {
     "name": "stdout",
     "output_type": "stream",
     "text": [
      "SpectralCube with shape=(15, 100, 100) and unit=Jy / beam:\n",
      " n_x:    100  type_x: RA---SIN  unit_x: deg    range:    34.405030 deg:   34.460268 deg\n",
      " n_y:    100  type_y: DEC--SIN  unit_y: deg    range:    -5.325284 deg:   -5.270279 deg\n",
      " n_s:     15  type_s: VRAD      unit_s: km / s  range:     8983.075 km / s:    9600.598 km / s\n"
     ]
    }
   ],
   "source": [
    "print(cube_20)"
   ]
  },
  {
   "cell_type": "markdown",
   "id": "521560b2",
   "metadata": {},
   "source": [
    "Next we create a mask, i.e. clipping the noise out of the smoothed cubelet and keep only signal above 3 sigma."
   ]
  },
  {
   "cell_type": "code",
   "execution_count": 60,
   "id": "969f7bdc",
   "metadata": {},
   "outputs": [
    {
     "name": "stderr",
     "output_type": "stream",
     "text": [
      "WARNING: PossiblySlowWarning: This function (<function BaseSpectralCube.sum at 0x7f98a1158280>) requires loading the entire cube into memory and may therefore be slow. [spectral_cube.utils]\n"
     ]
    }
   ],
   "source": [
    "sigma=14e-05\n",
    "include_mask = cube_20 > 3*sigma*cube_20.unit\n",
    "mask_cube = cube_20.with_mask(include_mask)\n",
    "#you can save the mask and examine it in ds9 \n",
    "mask_cube.write('/Users/apple/Documents/GitHub/Mphys_HI/COSMOS_r0p5/'+str(cube_name)+'_revised_masked_cube.fits', format='fits',overwrite='True')\n",
    "# derive new spectrum\n",
    "spectrum_new_jy = mask_cube.sum(axis=(1,2))*bmpix\n",
    "spectrum_new_jy_converted = np.nan_to_num(spectrum_new_jy.value)"
   ]
  },
  {
   "cell_type": "markdown",
   "id": "9e25f189",
   "metadata": {},
   "source": [
    "Then we can apply this mask to the original cubelet of high resolution. This way we can keep and high resolution and include the low column density emission\n",
    "however this does not work well, so we are just plotting the masked cube"
   ]
  },
  {
   "cell_type": "markdown",
   "id": "09424e00",
   "metadata": {},
   "source": [
    "Now we can calculate the spectrum of the masked cubelet, where only emission of the source is present and no noise."
   ]
  },
  {
   "cell_type": "markdown",
   "id": "61951fc9",
   "metadata": {},
   "source": [
    "Let's plot both: spectrum from the original cubelet and spectrum from the masked one"
   ]
  },
  {
   "cell_type": "code",
   "execution_count": 65,
   "id": "491c6805",
   "metadata": {},
   "outputs": [
    {
     "name": "stdout",
     "output_type": "stream",
     "text": [
      "70\n"
     ]
    },
    {
     "data": {
      "image/png": "[encoded data removed]",
      "text/plain": [
       "<Figure size 648x432 with 1 Axes>"
      ]
     },
     "metadata": {
      "needs_background": "light"
     },
     "output_type": "display_data"
    }
   ],
   "source": [
    "\n",
    "\n",
    "#calculate asymmetry and store --------------------------------------\n",
    "#asymmetry ratio calculation\n",
    "left_sum=0\n",
    "right_sum=0\n",
    "#spectrum for 2,3,4,5 1=[0,8,14]2=[3,5,9] 3=[0,6,14] 4=[5,11,14] 5=[9,13,14]\n",
    "i_begin = 0\n",
    "\n",
    "\n",
    "spec_center=-10\n",
    "\n",
    "i_mid = int(len(v_arr1)/2)-spec_center\n",
    "i_end = int(len(v_arr1))\n",
    "\n",
    "\n",
    "for i in range(i_begin,i_mid):\n",
    "    left_sum=spectrum_new_jy_converted[i]+left_sum\n",
    "for i in range(i_mid,i_end):    \n",
    "    right_sum=spectrum_new_jy_converted[i]+right_sum\n",
    "\n",
    "\n",
    "asymmetry = round(left_sum/right_sum,2)\n",
    "\n",
    "\n",
    "# examine the spectrum\n",
    "plt.figure(figsize=(9,6))\n",
    "plt.plot(v_arr1, spectrum_new_jy_converted)\n",
    "#plt.plot(v_arr1, spectrum_jy, label='Spectrum_unmasked')\n",
    "#plt.plot([800, 25700], [0, 0],'k--')\n",
    "print(i_mid)\n",
    "\n",
    "plt.plot(v_arr1[i_mid], spectrum_new_jy_converted[i_mid], 'r|', markersize=50)\n",
    "\n",
    "plt.xlabel('Vel (km/s)', fontsize = 12)\n",
    "plt.ylabel('Jy', fontsize = 12)\n",
    "\n",
    "x_pos = 0.97 * (v_arr1[72] - v_arr1[0]) + v_arr1[0]  # 10% into the x-range\n",
    "y_pos = 0.95 * (max(spectrum_new_jy_converted) - min(spectrum_new_jy_converted))  # 10% into the y-range\n",
    "\n",
    "x_pos_ = 0.97 * (v_arr1[72] - v_arr1[0]) + v_arr1[0]  # 10% into the x-range\n",
    "y_pos_ = 0.85 * (max(spectrum_new_jy_converted) - min(spectrum_new_jy_converted))  # 10% into the y-range\n",
    "\n",
    "plt.text(x_pos, y_pos, 'Asymmetry ' +str(asymmetry), fontsize=14, bbox=dict(facecolor='white', alpha=0.5))\n",
    "\n",
    "\n",
    "plt.gca().xaxis.set_minor_locator(AutoMinorLocator())\n",
    "plt.gca().yaxis.set_minor_locator(AutoMinorLocator())\n",
    "plt.gca().tick_params(axis='both', which='major', direction='in', length=10, top=True, right=True)\n",
    "plt.gca().tick_params(axis='both', which='minor', direction='in', length=5, top=True, right=True)\n",
    "\n",
    "#plt.legend(loc=2, numpoints=1, prop={'size':12})\n",
    "\n",
    "plt.savefig('/Users/apple/Documents/GitHub/Mphys_HI/COSMOS_r0p5_spectrum/'+str(cube_name)+'_spectrum.pdf',format = 'pdf', bbox_inches = 'tight', transparent=True)\n",
    "\n",
    "plt.show()\n"
   ]
  },
  {
   "cell_type": "markdown",
   "id": "dedadca2",
   "metadata": {},
   "source": [
    "As you see spectrum from the masked cube is different. Can you think about what changed and why? Does it look more like global HI profile now? "
   ]
  },
  {
   "cell_type": "markdown",
   "id": "44f49cd1",
   "metadata": {},
   "source": [
    "What is the width of the global HI profile (blue) in km/s, what this width means? "
   ]
  },
  {
   "cell_type": "markdown",
   "id": "5cce85cb",
   "metadata": {},
   "source": [
    "Do you see the importance of masking when you work with HI data "
   ]
  },
  {
   "cell_type": "markdown",
   "id": "473167d0",
   "metadata": {},
   "source": [
    "Now, lets calculate the HI mass"
   ]
  },
  {
   "cell_type": "code",
   "execution_count": 240,
   "id": "42288b4a",
   "metadata": {},
   "outputs": [
    {
     "name": "stdout",
     "output_type": "stream",
     "text": [
      "[0.00000000e+00 6.81810916e-05 8.80531801e-04 2.40691338e-04\n",
      " 1.03310009e-03 1.32246583e-03 9.30143505e-03 9.97533279e-03\n",
      " 4.13207356e-03 5.46623136e-04 3.39216193e-04 4.59633948e-04\n",
      " 0.00000000e+00 8.43315243e-04 2.13744109e-03]\n",
      "0.031280041174779\n",
      "0.6549062341469025 9.816179124560291\n"
     ]
    }
   ],
   "source": [
    "#First lets derive the total flux, which is the integrated flux under HI profile:\n",
    "flux_total=np.sum(spectrum_new_jy_converted)\n",
    "print(spectrum_new_jy_converted)\n",
    "#Next, calculate flux density by multiplying to channel width in km/s\n",
    "fluxdens=flux_total*dv \n",
    "print(flux_total)\n",
    "# Then we created all the ingredients to calculate the HI mass\n",
    "MHI=2.356*10**5*dist**2*fluxdens\n",
    "print(MHI/10**10,np.log10(MHI))"
   ]
  },
  {
   "cell_type": "markdown",
   "id": "eb3a3861",
   "metadata": {},
   "source": [
    "The HI mass of our galaxy is 1.8*10^10 M_solar. Use the lecture, in order to estimate the HI dimater of this galaxy"
   ]
  },
  {
   "cell_type": "markdown",
   "id": "601bd50d",
   "metadata": {},
   "source": [
    "Next, lets look in more detail on HI distribution"
   ]
  },
  {
   "cell_type": "markdown",
   "id": "5d0d628b",
   "metadata": {},
   "source": [
    "Lets look at HI distribution within the galaxy by creating the moment 0 or HI intensity map"
   ]
  },
  {
   "cell_type": "code",
   "execution_count": 241,
   "id": "307c361e",
   "metadata": {},
   "outputs": [
    {
     "data": {
      "text/plain": [
       "<astropy.io.fits.hdu.image.PrimaryHDU at 0x7fd386c3a2e0>"
      ]
     },
     "execution_count": 241,
     "metadata": {},
     "output_type": "execute_result"
    }
   ],
   "source": [
    "moment_0 = mask_cube.moment(order=0) \n",
    "moment_0.hdu  #it is important so you can use coordinates for the plots"
   ]
  },
  {
   "cell_type": "code",
   "execution_count": 242,
   "id": "d2c17696",
   "metadata": {},
   "outputs": [],
   "source": [
    "#convert your map to column densities in atoms/cm^2\n",
    "atoms=(1.1*10**24*((moment_0)/(bmaj*bmin)))"
   ]
  },
  {
   "cell_type": "markdown",
   "id": "a5f94383",
   "metadata": {},
   "source": [
    "How can you convert from atoms to surface mass densities?"
   ]
  },
  {
   "cell_type": "markdown",
   "id": "da834358",
   "metadata": {},
   "source": [
    "You can visualize your map in order to examine the  HI morphology"
   ]
  },
  {
   "cell_type": "code",
   "execution_count": 243,
   "id": "cc103ea4",
   "metadata": {},
   "outputs": [
    {
     "name": "stderr",
     "output_type": "stream",
     "text": [
      "<ipython-input-243-7d6dc5cc27ab>:4: MatplotlibDeprecationWarning: You are modifying the state of a globally registered colormap. In future versions, you will not be able to modify a registered colormap in-place. To remove this warning, you can make a copy of the colormap first. cmap = copy.copy(mpl.cm.get_cmap(\"plasma\"))\n",
      "  cmap.set_bad('white')\n"
     ]
    },
    {
     "data": {
      "image/png": "[encoded data removed]",
      "text/plain": [
       "<Figure size 360x360 with 2 Axes>"
      ]
     },
     "metadata": {
      "needs_background": "light"
     },
     "output_type": "display_data"
    }
   ],
   "source": [
    "fig = plt.figure(figsize=(5, 5))\n",
    "ax = fig.add_subplot(111,projection=atoms.wcs)\n",
    "cmap = cm.plasma\n",
    "cmap.set_bad('white')\n",
    "im = ax.imshow(atoms.value,origin='lower', cmap=cmap)\n",
    "contours = ax.contour(atoms.value,levels=( 1e20,3e20,5e20,1e21,2E21), colors=['white'], linewidths=1)\n",
    "\n",
    "ax.set_xlabel(\"RA \", fontsize=10)\n",
    "ax.set_ylabel(\"Dec\", fontsize=10)\n",
    "cb = plt.colorbar(mappable=im)\n",
    "cb.set_label(r'${\\rm atoms}\\,{\\rm cm}^{-2}$')\n",
    "cb.add_lines(contours)\n",
    "el = Ellipse((7, 6), bmaj, bmin,angle=bpa, edgecolor='black',hatch='//', facecolor='none')\n",
    "ax.add_patch(el)\n",
    "#plt.savefig('/Users/apple/Astro/revised_HI/'+str(cube_name)+'_revised_HI.png',format = 'png',\\\n",
    "#             bbox_inches = 'tight', transparent=True)\n",
    "plt.show()"
   ]
  },
  {
   "cell_type": "markdown",
   "id": "c5fb38fc",
   "metadata": {},
   "source": [
    "What do you see? Is it a regular disk? Or is it disturbed? Does it have a companion? What environment do you think this galaxy lives in?"
   ]
  },
  {
   "cell_type": "markdown",
   "id": "54b7367f",
   "metadata": {},
   "source": [
    "Next, lets look at its velocity map"
   ]
  },
  {
   "cell_type": "code",
   "execution_count": 244,
   "id": "c9665852",
   "metadata": {},
   "outputs": [
    {
     "name": "stderr",
     "output_type": "stream",
     "text": [
      "/Users/apple/opt/anaconda3/lib/python3.8/site-packages/spectral_cube/_moments.py:168: RuntimeWarning: invalid value encountered in true_divide\n",
      "  return (np.nansum(data * pix_cen, axis=axis) /\n"
     ]
    },
    {
     "data": {
      "text/plain": [
       "<astropy.io.fits.hdu.image.PrimaryHDU at 0x7fd38751c340>"
      ]
     },
     "execution_count": 244,
     "metadata": {},
     "output_type": "execute_result"
    }
   ],
   "source": [
    "moment_1=mask_cube.moment(order=1)\n",
    "moment_1.hdu"
   ]
  },
  {
   "cell_type": "code",
   "execution_count": null,
   "id": "d421245c",
   "metadata": {},
   "outputs": [],
   "source": []
  },
  {
   "cell_type": "code",
   "execution_count": 245,
   "id": "896b8812",
   "metadata": {},
   "outputs": [
    {
     "name": "stderr",
     "output_type": "stream",
     "text": [
      "/Users/apple/opt/anaconda3/lib/python3.8/site-packages/astropy/visualization/wcsaxes/core.py:234: UserWarning: No contour levels were found within the data range.\n",
      "  cset = super().contour(*args, **kwargs)\n"
     ]
    },
    {
     "data": {
      "image/png": "[encoded data removed]",
      "text/plain": [
       "<Figure size 360x360 with 2 Axes>"
      ]
     },
     "metadata": {
      "needs_background": "light"
     },
     "output_type": "display_data"
    }
   ],
   "source": [
    "fig = plt.figure(figsize=(5, 5))\n",
    "ax = fig.add_subplot(111,projection=atoms.wcs)\n",
    "#cmap = cm.RdBu_r\n",
    "cmap=plt.get_cmap('RdBu_r',25)\n",
    "#cmap.set_bad('white')\n",
    "im = ax.imshow(moment_1.value,origin='lower', cmap=cmap, vmin=12400, vmax=12600)\n",
    "\n",
    "contours = ax.contour(moment_1.value,levels=(83,15300,15350), colors=['white'], linewidths=1)\n",
    "contours1 = ax.contour(moment_1.value,levels=(8325, 8325.2), colors=['black'], linewidths=1)\n",
    "ax.set_xlabel(\"RA \", fontsize=10)\n",
    "ax.set_ylabel(\"Dec\", fontsize=10)\n",
    "cb = plt.colorbar(mappable=im)\n",
    "cb.set_label(r'Vel km/s')\n",
    "#cb.add_lines(contours)\n",
    "#cb.add_lines(contours1)\n",
    "#cb.add_lines(contours)\n",
    "\n",
    "el = Ellipse((6, 7), bmaj, bmin,angle=bpa, edgecolor='black',hatch='//', facecolor='none')\n",
    "ax.add_patch(el)\n",
    "#ax.invert_yaxis()  # Flips the Y axi\n",
    "#plt.savefig('/Users/apple/Astro/revised_velocity/'+str(cube_name)+'_revised_velocity.png',format = 'png',\\\n",
    " #            bbox_inches = 'tight', transparent=True)\n",
    "plt.show()"
   ]
  },
  {
   "cell_type": "markdown",
   "id": "8bdf6931",
   "metadata": {},
   "source": [
    "Is this gaalxy regularly rotating? what side rotates towards you (approaching) and what rotates away from you (receding)? What is the approximate position angle of this the galaxy? And Systemic velocity? Does the companion have the same systemic velocity or higher/lower? What does it say about their distances? What is the distance between them? "
   ]
  },
  {
   "cell_type": "code",
   "execution_count": 246,
   "id": "9d99de7e",
   "metadata": {},
   "outputs": [
    {
     "data": {
      "text/plain": [
       "<astropy.io.fits.hdu.image.PrimaryHDU at 0x7fd386ed1d00>"
      ]
     },
     "execution_count": 246,
     "metadata": {},
     "output_type": "execute_result"
    }
   ],
   "source": [
    "moment_2=mask_cube.linewidth_sigma()  \n",
    "moment_2.hdu"
   ]
  },
  {
   "cell_type": "code",
   "execution_count": 247,
   "id": "c0eb7437",
   "metadata": {},
   "outputs": [
    {
     "data": {
      "image/png": "[encoded data removed]",
      "text/plain": [
       "<Figure size 360x360 with 2 Axes>"
      ]
     },
     "metadata": {
      "needs_background": "light"
     },
     "output_type": "display_data"
    }
   ],
   "source": [
    "fig = plt.figure(figsize=(5, 5))\n",
    "ax = fig.add_subplot(111,projection=atoms.wcs)\n",
    "\n",
    "#contours = ax.contour(atoms.value,levels=( 10,20,30,40,50), colors=['white'], linewidths=1)\n",
    "ax.set_xlabel(\"RA \", fontsize=10)\n",
    "ax.set_ylabel(\"Dec\", fontsize=10)\n",
    "cb = plt.colorbar(mappable=im)\n",
    "cb.set_label('dispersion velocity km/s')\n",
    "#cb.add_lines(contours)\n",
    "\n",
    "cmap = cm.plasma\n",
    "#ax.set_xlim(20,120)\n",
    "#ax.set_ylim(20,120)\n",
    "\n",
    "im=ax.imshow(moment_2.value,origin='lower', cmap=cmap,vmin=0,vmax=50)\n",
    "el = Ellipse((6, 7), bmaj, bmin,angle=bpa, edgecolor='black',hatch='//', facecolor='none')\n",
    "ax.add_patch(el)\n",
    "#plt.savefig('/Users/apple/Astro/revised_dispersion/'+str(cube_name)+'_revised_dispersion.png',format = 'png',\\\n",
    "#             bbox_inches = 'tight', transparent=True)\n",
    "plt.show()"
   ]
  },
  {
   "cell_type": "code",
   "execution_count": 248,
   "id": "b4b84dd6",
   "metadata": {},
   "outputs": [],
   "source": [
    "wcs1=moment_0.wcs # the coordinates of your mom0 HI map. \n",
    "#open optical image and set the coordinates\n",
    "gband=fits.open('/Users/apple/astro/G_band/'+str(cube_name)+'_G.fits')\n",
    "gband_data= gband[0].data\n",
    "gband_header= gband[0].header\n",
    "hdu2 = gband[0]\n",
    "wcs2 = WCS(hdu2.header)\n",
    "\n",
    "#gband_data shape 700*700"
   ]
  },
  {
   "cell_type": "code",
   "execution_count": 249,
   "id": "112c41d0",
   "metadata": {},
   "outputs": [
    {
     "name": "stderr",
     "output_type": "stream",
     "text": [
      "/Users/apple/opt/anaconda3/lib/python3.8/site-packages/astropy/wcs/wcs.py:2873: RuntimeWarning: cdelt will be ignored since cd is present\n",
      "  description.append(s.format(*self.wcs.cdelt))\n"
     ]
    },
    {
     "data": {
      "text/plain": [
       "WCS Keywords\n",
       "\n",
       "Number of WCS axes: 2\n",
       "CTYPE : 'RA---TAN'  'DEC--TAN'  \n",
       "CRVAL : 34.425  -4.872  \n",
       "CRPIX : 486.5  8013.5  \n",
       "PC1_1 PC1_2  : -5.555555555556e-05  0.0  \n",
       "PC2_1 PC2_2  : 0.0  5.555555555556e-05  \n",
       "CDELT : 1.0  1.0  \n",
       "NAXIS : 700  700"
      ]
     },
     "execution_count": 249,
     "metadata": {},
     "output_type": "execute_result"
    }
   ],
   "source": [
    "wcs2"
   ]
  },
  {
   "cell_type": "code",
   "execution_count": 250,
   "id": "4e182744",
   "metadata": {},
   "outputs": [
    {
     "data": {
      "text/plain": [
       "WCS Keywords\n",
       "\n",
       "Number of WCS axes: 2\n",
       "CTYPE : 'RA---SIN'  'DEC--SIN'  \n",
       "CRVAL : 34.46249980127  -4.833055419407  \n",
       "CRPIX : -3.0  887.0  \n",
       "PC1_1 PC1_2  : 1.0  0.0  \n",
       "PC2_1 PC2_2  : 0.0  1.0  \n",
       "CDELT : -0.00055555555543  0.00055555555543  \n",
       "NAXIS : 0  0"
      ]
     },
     "execution_count": 250,
     "metadata": {},
     "output_type": "execute_result"
    }
   ],
   "source": [
    "wcs1"
   ]
  },
  {
   "cell_type": "code",
   "execution_count": 251,
   "id": "dccf34d5",
   "metadata": {},
   "outputs": [
    {
     "data": {
      "text/plain": [
       "WCS Keywords\n",
       "\n",
       "Number of WCS axes: 2\n",
       "CTYPE : 'RA---SIN'  'DEC--SIN'  \n",
       "CRVAL : 34.46249980127  -4.833055419407  \n",
       "CRPIX : -3.0  887.0  \n",
       "PC1_1 PC1_2  : 1.0  0.0  \n",
       "PC2_1 PC2_2  : 0.0  1.0  \n",
       "CDELT : -0.00055555555543  0.00055555555543  \n",
       "NAXIS : 0  0"
      ]
     },
     "execution_count": 251,
     "metadata": {},
     "output_type": "execute_result"
    }
   ],
   "source": [
    "moment_0.wcs"
   ]
  },
  {
   "cell_type": "code",
   "execution_count": 252,
   "id": "1ad9d057",
   "metadata": {},
   "outputs": [
    {
     "name": "stderr",
     "output_type": "stream",
     "text": [
      "<ipython-input-252-153e193544e0>:5: MatplotlibDeprecationWarning: You are modifying the state of a globally registered colormap. In future versions, you will not be able to modify a registered colormap in-place. To remove this warning, you can make a copy of the colormap first. cmap = copy.copy(mpl.cm.get_cmap(\"Greys\"))\n",
      "  cmap.set_bad('white')\n"
     ]
    },
    {
     "data": {
      "image/png": "[encoded data removed]",
      "text/plain": [
       "<Figure size 360x360 with 1 Axes>"
      ]
     },
     "metadata": {
      "needs_background": "light"
     },
     "output_type": "display_data"
    }
   ],
   "source": [
    "#plot together by using HI coordinates as default and transforming optical coordinates\n",
    "fig = plt.figure(figsize=(5, 5))\n",
    "ax = fig.add_subplot(111,projection=wcs1.sub([1, 2]))\n",
    "cmap = cm.Greys\n",
    "cmap.set_bad('white')\n",
    "im = ax.imshow(gband_data,transform=ax.get_transform(wcs2.sub([1, 2])), cmap=cmap,  vmin=0, vmax=0.1) #choose vmin and vmax in ds9 \n",
    "contours = ax.contour(atoms,levels=(1E20,3E20, 5E20, 3E21), colors=['blue'], linewidths=2) #use relevant countour levels\n",
    "ax.set_xlabel(\"RA \", fontsize=10)\n",
    "ax.set_ylabel(\"Dec\", fontsize=10)\n",
    "#ax.set_xlim(0,100)\n",
    "#ax.set_ylim(0,100)\n",
    "\n",
    "#cb = plt.colorbar(mappable=im)\n",
    "#cb.set_label(r'K kms$^{-1}$')\n",
    "#cb.add_lines(contours)\n",
    "#el1 = Ellipse((6, 3), 4.43, 2.85,angle=90+74, edgecolor='black',hatch='//', facecolor='none')\n",
    "#el2 = Ellipse((35, 6), 14.67/2, 11.3/2,angle=90+18, edgecolor='blue',hatch='//', facecolor='none')\n",
    "#ax.add_patch(el1)\n",
    "#ax.add_patch(el2)\n",
    "#ax.invert_yaxis()  # Flips the Y axi'\n",
    "#plt.savefig('/Users/apple/astro/HI_on_optical/'+str(cube_name)+'HI_mom0.png',format = 'png',\\\n",
    " #            bbox_inches = 'tight', transparent=True)\n",
    "plt.show()"
   ]
  },
  {
   "cell_type": "code",
   "execution_count": null,
   "id": "d5443e1e",
   "metadata": {},
   "outputs": [],
   "source": []
  },
  {
   "cell_type": "code",
   "execution_count": null,
   "id": "7d3e4dc9",
   "metadata": {},
   "outputs": [],
   "source": []
  },
  {
   "cell_type": "code",
   "execution_count": null,
   "id": "c9c00137",
   "metadata": {},
   "outputs": [],
   "source": []
  }
 ],
 "metadata": {
  "kernelspec": {
   "display_name": "Python 3",
   "language": "python",
   "name": "python3"
  },
  "language_info": {
   "codemirror_mode": {
    "name": "ipython",
    "version": 3
   },
   "file_extension": ".py",
   "mimetype": "text/x-python",
   "name": "python",
   "nbconvert_exporter": "python",
   "pygments_lexer": "ipython3",
   "version": "3.8.8"
  }
 },
 "nbformat": 4,
 "nbformat_minor": 5
}
